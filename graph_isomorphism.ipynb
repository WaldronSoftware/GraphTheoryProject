{
 "cells": [
  {
   "cell_type": "markdown",
   "id": "603837e1-300b-43c6-b410-d8bc05bfd87d",
   "metadata": {},
   "source": [
    "Graph Theory Project -"
   ]
  },
  {
   "cell_type": "code",
   "execution_count": null,
   "id": "118bc1de-9550-431e-b7fb-e82fba1c0e75",
   "metadata": {},
   "outputs": [],
   "source": []
  },
  {
   "cell_type": "code",
   "execution_count": null,
   "id": "502238ee-c426-4f70-81fd-df17df821237",
   "metadata": {},
   "outputs": [],
   "source": []
  }
 ],
 "metadata": {
  "kernelspec": {
   "display_name": "Python 3 (ipykernel)",
   "language": "python",
   "name": "python3"
  },
  "language_info": {
   "codemirror_mode": {
    "name": "ipython",
    "version": 3
   },
   "file_extension": ".py",
   "mimetype": "text/x-python",
   "name": "python",
   "nbconvert_exporter": "python",
   "pygments_lexer": "ipython3",
   "version": "3.10.9"
  }
 },
 "nbformat": 4,
 "nbformat_minor": 5
}
