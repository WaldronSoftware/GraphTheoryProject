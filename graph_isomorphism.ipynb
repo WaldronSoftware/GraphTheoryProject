{
 "cells": [
  {
   "cell_type": "markdown",
   "id": "603837e1-300b-43c6-b410-d8bc05bfd87d",
   "metadata": {},
   "source": [
    "# Graph Theory Project - Isomorphism Problem\n",
    "- Ronan Waldron (G00384180)\n",
    "***"
   ]
  },
  {
   "cell_type": "markdown",
   "id": "61fc3ff5-c18a-44c3-88dc-ee15f98eb6d1",
   "metadata": {},
   "source": [
    "### Introduction\n",
    "***\n",
    "This notebook aims to improve your understanding and comprehension of the Graph Isomorphism Problem in a way that is simple and easy to follow. We will begin with theory and towards the end incorporate some visuals using Python.\n"
   ]
  },
  {
   "cell_type": "markdown",
   "id": "7d3c624e-4d73-4bee-ae61-fceaf5140923",
   "metadata": {},
   "source": [
    "### The Issue We Face:"
   ]
  },
  {
   "cell_type": "markdown",
   "id": "365b6e5e-614e-4a10-940b-941226b86ace",
   "metadata": {},
   "source": [
    ">The graph isomorphism problem is the computational problem of determining whether two infinite graphs are isomorphic.\n",
    "The problem is not known to be solvable in polynomial time nor to be NP-complete, and therefore may be in the computational complexity class NP-intermediate. [1](https://en.wikipedia.org/wiki/Graph_isomorphism_problem)"
   ]
  },
  {
   "cell_type": "markdown",
   "id": "2ff73dc1-8535-446b-afdc-899117fa8691",
   "metadata": {},
   "source": [
    "For a short visual introduction to Graph Isomorphism: \n",
    "[Click Here |2](https://www.youtube.com/watch?v=9UbC7p18PDw)"
   ]
  },
  {
   "attachments": {
    "dd846ebb-2348-48aa-aa14-47e0e4b00957.PNG": {
     "image/png": "[encoded data removed]"
    }
   },
   "cell_type": "markdown",
   "id": "72b13aef-5226-48fc-8e84-98cc37c5ee46",
   "metadata": {},
   "source": [
    "### Relative Terms\n",
    "***\n",
    "\n",
    "- Graphs: A pictorial representation or a diagram that represents data or values in an organized manner. [3](https://www.splashlearn.com/math-vocabulary/geometry/graph)\n",
    "\n",
    "![graphexample](https://media.geeksforgeeks.org/wp-content/uploads/isomorphism-question.jpg)\n",
    "\n",
    "- Edges: A line segment on the boundary joining one vertex to another. [4](https://www.mathsisfun.com/definitions/edge.html)\n",
    "- Vertex: A point on a polygon where the edges meet or where two line segmets meet. [5](https://www.splashlearn.com/math-vocabulary/geometry/vertex)\n",
    "\n",
    "On the pentagon below A,B,C,D are vertices as all edges meet.\n",
    "\n",
    "![vertexexample.PNG](attachment:dd846ebb-2348-48aa-aa14-47e0e4b00957.PNG)\n",
    "\n",
    "- Degree: Number of edges that are connected to the vertex.\n",
    "\n",
    "\n",
    "![degreeexample](data:image/png;base64,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)"
   ]
  },
  {
   "cell_type": "markdown",
   "id": "d6346bca-a226-467d-bdac-3ed9e8b373b4",
   "metadata": {},
   "source": [
    "### Graph Isomorphism\n",
    "***\n",
    "- Described as a graph in which a single graph can have more than one form. Meaning two different graphs can have the same number of edges, vertices, and same edges connectivity. [6](https://www.javatpoint.com/graph-isomorphism-in-discrete-mathematics)\n",
    "\n",
    "![isomorphicexample](https://static.javatpoint.com/tutorial/dms/images/graph-isomorphism-in-discrete-mathematics.png)\n",
    "\n",
    "Above there is an example of a single graph represented in more than one form, thus making it an isomorphic graph.\n",
    "\n",
    "#### The Graph Isomorphism Problem\n",
    "Networks are all around us and can be represented as graphs, which are made up of nodes and links. The Graph Isomorphism problem asks us whether two visually different graphs are actually quite the same. A great example of this is the London Underground map, which looks different from the actual train network but is isomorphic because it preserves the connectivity of the graph. \n",
    "The problem isn't about identifying whether two graphs are isomorphic, but whether there is a faster algorithm than the ones currently known. \n",
    "\n",
    "![undergroundimage](https://plus.maths.org/content/sites/plus.maths.org/files/news/2015/graphiso/tube-1.jpg)\n",
    "\n",
    "We can also see this using a bus route in Galway as shown below.\n",
    "\n",
    "![galwaybus](https://appassets.mvtdev.com/map/41/l/502/228876/1967363.jpg)\n",
    "\n",
    "\n",
    "The Graph Isomorphism problem is widely as a very challenging problem to solve. It belongs to the complexity class NP, which means that a possible solution can be checked in polynomial time, but currently there is no algorithm that exists to solve the problem in polynomial time.\n",
    "\n",
    "The best known algorithm to solve the Graph Isomorphism problem is called the Color Refinement algorithm. It works in quasi-polynomial time, meaning that it takes proportional time to a polynomial in the logarithm of the input size. While this algorithm is recognised as a significant improvement over previous ones, it's still not a polynomial-time algorithm solution. Basically it begs the question, if a computer can quickly verify the answer to a problem that has been solved, can the same computer also quickly solve the problem?\n",
    "\n",
    "Heuristic algorithms are often used to solve many instances of the Graph Isomorphism problem efficiently but there are still cases that are difficult to solve and are continuely explored in theoretical computer science.\n",
    "\n",
    "A fun fact, this problem is known as a Millenium Problem meaning you can win $1 Million from the Clay Mathematics Institute for providing the first ever correct solution."
   ]
  },
  {
   "cell_type": "markdown",
   "id": "e28ff081-6d09-4fbb-bf1e-8525c9770a8e",
   "metadata": {},
   "source": [
    "### Calculating / Implementing Graph Isomorphism\n",
    "***\n",
    "\n"
   ]
  },
  {
   "cell_type": "markdown",
   "id": "78e3fef1-b70e-4f12-ad4d-f347455dd0dd",
   "metadata": {},
   "source": [
    "We can use the Weisfeiler-Lehman Test to check whether two distinct graphs are isomorphic or not.[something](https://towardsdatascience.com/testing-if-two-graphs-are-isomorphic-cf6c44ab551e)\n",
    "\n",
    "[Code Examples](https://github.com/TNanukem/paper_implementations/blob/main/Weisfeiler%20Lehman%20Isomorphism%20Test.ipynb)\n",
    "\n"
   ]
  },
  {
   "cell_type": "code",
   "execution_count": 4,
   "id": "9fb75402-c72d-47c9-929f-b90363b53534",
   "metadata": {},
   "outputs": [],
   "source": [
    "import copy\n",
    "import pprint\n",
    "import itertools\n",
    "import hashlib\n",
    "import networkx as nx\n",
    "\n",
    "from collections import Counter"
   ]
  },
  {
   "cell_type": "code",
   "execution_count": 5,
   "id": "5fd2ed05-63e4-4d86-8091-e4fced0aa6c5",
   "metadata": {},
   "outputs": [],
   "source": [
    "def base_WL(G_, k, verbose, n_set, initial_colors_func, find_neighbors_func):    \n",
    "    if verbose:\n",
    "        print('-----------------------------------')\n",
    "        print('Starting the execution for the graph')\n",
    "    G, n = n_set(G_)\n",
    "    colors = initial_colors_func(n)\n",
    "\n",
    "    old_colors = copy.deepcopy(colors)\n",
    "    \n",
    "    if verbose:\n",
    "        print(f'Initial Color hashes: \\n {colors} \\n')\n",
    "\n",
    "    for i in range(len(n)):\n",
    "        for node in n:\n",
    "            neigh_colors = \"\".join([colors[i][0] for i in find_neighbors_func(G, n, node)])\n",
    "            \n",
    "            colors[node].extend([neigh_colors])\n",
    "            colors[node].sort()\n",
    "\n",
    "        # Update with the hash\n",
    "        if verbose:\n",
    "            print(f'Colors before hashes at iteration {i}: {colors} \\n')\n",
    "        colors = {i: [hashlib.sha224(\"\".join(colors[i]).encode('utf-8')).hexdigest()] for i in colors}\n",
    "                \n",
    "        if verbose:\n",
    "            print(f'Colors hashes at iteration {i}: \\n {colors} \\n')\n",
    "            print(f'Histogram: \\n {sorted(Counter([item for sublist in colors.values() for item in sublist]).items())} \\n')\n",
    "        \n",
    "        if list(Counter([item for sublist in colors.values() for item in sublist]).values()) == list(Counter([item for sublist in old_colors.values() for item in sublist]).values()) and i != 0:\n",
    "            if verbose:\n",
    "                print(f'Converged at iteration {i}!')\n",
    "            break\n",
    "        \n",
    "        old_colors = copy.deepcopy(colors)\n",
    "\n",
    "    canonical_form = sorted(Counter([item for sublist in colors.values() for item in sublist]).items())\n",
    "    if verbose:\n",
    "        print(f'Canonical Form Found: \\n {canonical_form} \\n')\n",
    "\n",
    "    return canonical_form"
   ]
  },
  {
   "cell_type": "code",
   "execution_count": 6,
   "id": "b4ea2d11-00e1-4bbb-a736-54eaa609fd44",
   "metadata": {},
   "outputs": [],
   "source": [
    "def WL(G, k=2, verbose=False):\n",
    "    def n_set(G):\n",
    "        G = nx.convert_node_labels_to_integers(G)\n",
    "        return G, list(G.nodes())\n",
    "    \n",
    "    def set_initial_colors(n):\n",
    "        return {i: [hashlib.sha224(\"1\".encode('utf-8')).hexdigest()] for i in n}\n",
    "    \n",
    "    def find_neighbors(G, n, node):\n",
    "        return G.neighbors(node)\n",
    "    \n",
    "    return base_WL(G, k, verbose, n_set, set_initial_colors, find_neighbors)"
   ]
  },
  {
   "cell_type": "code",
   "execution_count": 7,
   "id": "140af754-1560-4972-8929-dd21aa164ddb",
   "metadata": {},
   "outputs": [],
   "source": [
    "def kWL(G, k, verbose=False):\n",
    "    def n_set(G):\n",
    "        G = nx.convert_node_labels_to_integers(G)\n",
    "        V = list(G.nodes())\n",
    "        V_k = [comb for comb in itertools.combinations(V, k)]\n",
    "        return G, V_k\n",
    "\n",
    "    def set_initial_colors(n):\n",
    "        return {i: [hashlib.sha224(str(i).encode('utf-8')).hexdigest()] for i in n}\n",
    "\n",
    "    def find_neighbors(G, V_k, node):\n",
    "        print([n for n in V_k if len(set(n) - set(V_k[V_k.index(node)])) == 1])\n",
    "        return [n for n in V_k if len(set(n) - set(V_k[V_k.index(node)])) == 1]\n",
    "\n",
    "    return base_WL(G, k, verbose, n_set, set_initial_colors, find_neighbors)"
   ]
  },
  {
   "cell_type": "code",
   "execution_count": 8,
   "id": "49f3ce09-b1e1-4776-ac4d-1677b1750102",
   "metadata": {},
   "outputs": [],
   "source": [
    "def fkWL(G, k, verbose=False):\n",
    "    def n_set(G):\n",
    "        G = nx.convert_node_labels_to_integers(G)\n",
    "        V = list(G.nodes())\n",
    "        V_k = [comb for comb in itertools.product(V, repeat=k)]\n",
    "        return G, V_k\n",
    "\n",
    "    def set_initial_colors(n):\n",
    "        return {i: [hashlib.sha224(str(i).encode('utf-8')).hexdigest()] for i in n}\n",
    "\n",
    "    def find_neighbors(G, V_k, node):\n",
    "        V = list(G.nodes())\n",
    "        vals = []\n",
    "        for i in range(k):\n",
    "            w = []\n",
    "            nodes_to_add = [u for u in V if u != V_k[V_k.index(node)][i]]\n",
    "            for u in nodes_to_add:\n",
    "                aux = list(V_k[V_k.index(node)])\n",
    "                aux[i] = u\n",
    "                w.append(tuple(aux))\n",
    "            vals.extend(w)\n",
    "        return vals\n",
    "\n",
    "    return base_WL(G, k, verbose, n_set, set_initial_colors, find_neighbors)"
   ]
  },
  {
   "cell_type": "code",
   "execution_count": 9,
   "id": "b9953df9-0534-44aa-93f7-f12f2eb7e67b",
   "metadata": {},
   "outputs": [],
   "source": [
    "def compare_graphs(G1, G2, method='WL', k=2, verbose=False):\n",
    "    methods = {\n",
    "        'WL': WL,\n",
    "        'kWL': kWL,\n",
    "        'fkWL': fkWL\n",
    "    }\n",
    "\n",
    "    # If two graphs have different numbers of nodes they cannot be isomorphic\n",
    "    if len(G1.nodes()) != len(G2.nodes()):\n",
    "        if verbose:\n",
    "            print('Non-Isomorphic by different number of nodes!')\n",
    "        return False\n",
    "    \n",
    "    c1 = methods[method](G1, k, verbose)\n",
    "    c2 = methods[method](G2, k, verbose)\n",
    "\n",
    "    return c1 == c2"
   ]
  },
  {
   "cell_type": "code",
   "execution_count": 10,
   "id": "45e38404-aba6-4426-bf3e-6e1da97a6ac1",
   "metadata": {},
   "outputs": [
    {
     "name": "stdout",
     "output_type": "stream",
     "text": [
      "-----------------------------------\n",
      "Starting the execution for the graph\n",
      "Initial Color hashes: \n",
      " {(0, 1): ['dd1ff31c7034df9b181dec11a0ae633bf9bee80662d76e1b5f655c2e'], (0, 2): ['af78931ab7820443f0986de9ef1f276363014d89b9dd587f16b5f3e5'], (1, 2): ['efc8967f524c37abb64097ebc4ca64c6c9a47e4ae3f6bd4bda7a52a3']} \n",
      "\n",
      "[(0, 2), (1, 2)]\n",
      "[(0, 1), (1, 2)]\n",
      "[(0, 1), (0, 2)]\n",
      "Colors before hashes at iteration 0: {(0, 1): ['af78931ab7820443f0986de9ef1f276363014d89b9dd587f16b5f3e5efc8967f524c37abb64097ebc4ca64c6c9a47e4ae3f6bd4bda7a52a3', 'dd1ff31c7034df9b181dec11a0ae633bf9bee80662d76e1b5f655c2e'], (0, 2): ['af78931ab7820443f0986de9ef1f276363014d89b9dd587f16b5f3e5', 'af78931ab7820443f0986de9ef1f276363014d89b9dd587f16b5f3e5efc8967f524c37abb64097ebc4ca64c6c9a47e4ae3f6bd4bda7a52a3efc8967f524c37abb64097ebc4ca64c6c9a47e4ae3f6bd4bda7a52a3'], (1, 2): ['af78931ab7820443f0986de9ef1f276363014d89b9dd587f16b5f3e5efc8967f524c37abb64097ebc4ca64c6c9a47e4ae3f6bd4bda7a52a3af78931ab7820443f0986de9ef1f276363014d89b9dd587f16b5f3e5', 'efc8967f524c37abb64097ebc4ca64c6c9a47e4ae3f6bd4bda7a52a3']} \n",
      "\n",
      "Colors hashes at iteration 0: \n",
      " {(0, 1): ['946dbe927789cffad1e35be6686a4bc3fa664ff51ad0ed7190480dcf'], (0, 2): ['c229b1e4d137cac51864bc1340783d63f573156b9fa91a2ea577baee'], (1, 2): ['f5abc44f56ff8f111a99c562174f02c5c0e105dfdd05cb228681e613']} \n",
      "\n",
      "Histogram: \n",
      " [('946dbe927789cffad1e35be6686a4bc3fa664ff51ad0ed7190480dcf', 1), ('c229b1e4d137cac51864bc1340783d63f573156b9fa91a2ea577baee', 1), ('f5abc44f56ff8f111a99c562174f02c5c0e105dfdd05cb228681e613', 1)] \n",
      "\n",
      "[(0, 2), (1, 2)]\n",
      "[(0, 1), (1, 2)]\n",
      "[(0, 1), (0, 2)]\n",
      "Colors before hashes at iteration 1: {(0, 1): ['946dbe927789cffad1e35be6686a4bc3fa664ff51ad0ed7190480dcf', 'c229b1e4d137cac51864bc1340783d63f573156b9fa91a2ea577baeef5abc44f56ff8f111a99c562174f02c5c0e105dfdd05cb228681e613'], (0, 2): ['946dbe927789cffad1e35be6686a4bc3fa664ff51ad0ed7190480dcff5abc44f56ff8f111a99c562174f02c5c0e105dfdd05cb228681e613', 'c229b1e4d137cac51864bc1340783d63f573156b9fa91a2ea577baee'], (1, 2): ['946dbe927789cffad1e35be6686a4bc3fa664ff51ad0ed7190480dcf946dbe927789cffad1e35be6686a4bc3fa664ff51ad0ed7190480dcff5abc44f56ff8f111a99c562174f02c5c0e105dfdd05cb228681e613', 'f5abc44f56ff8f111a99c562174f02c5c0e105dfdd05cb228681e613']} \n",
      "\n",
      "Colors hashes at iteration 1: \n",
      " {(0, 1): ['0be3e678a6d1445e96b6584de1f531a9fedeb8d39f1ba8d2616dbe38'], (0, 2): ['40d5304d6ff744d2184aaeb108b5bfa3aad94d7afac23b219c81c8fd'], (1, 2): ['43a464a76a0950ea1caec50ad27a0539e59b4d24009572d1db09cce7']} \n",
      "\n",
      "Histogram: \n",
      " [('0be3e678a6d1445e96b6584de1f531a9fedeb8d39f1ba8d2616dbe38', 1), ('40d5304d6ff744d2184aaeb108b5bfa3aad94d7afac23b219c81c8fd', 1), ('43a464a76a0950ea1caec50ad27a0539e59b4d24009572d1db09cce7', 1)] \n",
      "\n",
      "Converged at iteration 1!\n",
      "Canonical Form Found: \n",
      " [('0be3e678a6d1445e96b6584de1f531a9fedeb8d39f1ba8d2616dbe38', 1), ('40d5304d6ff744d2184aaeb108b5bfa3aad94d7afac23b219c81c8fd', 1), ('43a464a76a0950ea1caec50ad27a0539e59b4d24009572d1db09cce7', 1)] \n",
      "\n",
      "-----------------------------------\n",
      "Starting the execution for the graph\n",
      "Initial Color hashes: \n",
      " {(0, 1): ['dd1ff31c7034df9b181dec11a0ae633bf9bee80662d76e1b5f655c2e'], (0, 2): ['af78931ab7820443f0986de9ef1f276363014d89b9dd587f16b5f3e5'], (1, 2): ['efc8967f524c37abb64097ebc4ca64c6c9a47e4ae3f6bd4bda7a52a3']} \n",
      "\n",
      "[(0, 2), (1, 2)]\n",
      "[(0, 1), (1, 2)]\n",
      "[(0, 1), (0, 2)]\n",
      "Colors before hashes at iteration 0: {(0, 1): ['af78931ab7820443f0986de9ef1f276363014d89b9dd587f16b5f3e5efc8967f524c37abb64097ebc4ca64c6c9a47e4ae3f6bd4bda7a52a3', 'dd1ff31c7034df9b181dec11a0ae633bf9bee80662d76e1b5f655c2e'], (0, 2): ['af78931ab7820443f0986de9ef1f276363014d89b9dd587f16b5f3e5', 'af78931ab7820443f0986de9ef1f276363014d89b9dd587f16b5f3e5efc8967f524c37abb64097ebc4ca64c6c9a47e4ae3f6bd4bda7a52a3efc8967f524c37abb64097ebc4ca64c6c9a47e4ae3f6bd4bda7a52a3'], (1, 2): ['af78931ab7820443f0986de9ef1f276363014d89b9dd587f16b5f3e5efc8967f524c37abb64097ebc4ca64c6c9a47e4ae3f6bd4bda7a52a3af78931ab7820443f0986de9ef1f276363014d89b9dd587f16b5f3e5', 'efc8967f524c37abb64097ebc4ca64c6c9a47e4ae3f6bd4bda7a52a3']} \n",
      "\n",
      "Colors hashes at iteration 0: \n",
      " {(0, 1): ['946dbe927789cffad1e35be6686a4bc3fa664ff51ad0ed7190480dcf'], (0, 2): ['c229b1e4d137cac51864bc1340783d63f573156b9fa91a2ea577baee'], (1, 2): ['f5abc44f56ff8f111a99c562174f02c5c0e105dfdd05cb228681e613']} \n",
      "\n",
      "Histogram: \n",
      " [('946dbe927789cffad1e35be6686a4bc3fa664ff51ad0ed7190480dcf', 1), ('c229b1e4d137cac51864bc1340783d63f573156b9fa91a2ea577baee', 1), ('f5abc44f56ff8f111a99c562174f02c5c0e105dfdd05cb228681e613', 1)] \n",
      "\n",
      "[(0, 2), (1, 2)]\n",
      "[(0, 1), (1, 2)]\n",
      "[(0, 1), (0, 2)]\n",
      "Colors before hashes at iteration 1: {(0, 1): ['946dbe927789cffad1e35be6686a4bc3fa664ff51ad0ed7190480dcf', 'c229b1e4d137cac51864bc1340783d63f573156b9fa91a2ea577baeef5abc44f56ff8f111a99c562174f02c5c0e105dfdd05cb228681e613'], (0, 2): ['946dbe927789cffad1e35be6686a4bc3fa664ff51ad0ed7190480dcff5abc44f56ff8f111a99c562174f02c5c0e105dfdd05cb228681e613', 'c229b1e4d137cac51864bc1340783d63f573156b9fa91a2ea577baee'], (1, 2): ['946dbe927789cffad1e35be6686a4bc3fa664ff51ad0ed7190480dcf946dbe927789cffad1e35be6686a4bc3fa664ff51ad0ed7190480dcff5abc44f56ff8f111a99c562174f02c5c0e105dfdd05cb228681e613', 'f5abc44f56ff8f111a99c562174f02c5c0e105dfdd05cb228681e613']} \n",
      "\n",
      "Colors hashes at iteration 1: \n",
      " {(0, 1): ['0be3e678a6d1445e96b6584de1f531a9fedeb8d39f1ba8d2616dbe38'], (0, 2): ['40d5304d6ff744d2184aaeb108b5bfa3aad94d7afac23b219c81c8fd'], (1, 2): ['43a464a76a0950ea1caec50ad27a0539e59b4d24009572d1db09cce7']} \n",
      "\n",
      "Histogram: \n",
      " [('0be3e678a6d1445e96b6584de1f531a9fedeb8d39f1ba8d2616dbe38', 1), ('40d5304d6ff744d2184aaeb108b5bfa3aad94d7afac23b219c81c8fd', 1), ('43a464a76a0950ea1caec50ad27a0539e59b4d24009572d1db09cce7', 1)] \n",
      "\n",
      "Converged at iteration 1!\n",
      "Canonical Form Found: \n",
      " [('0be3e678a6d1445e96b6584de1f531a9fedeb8d39f1ba8d2616dbe38', 1), ('40d5304d6ff744d2184aaeb108b5bfa3aad94d7afac23b219c81c8fd', 1), ('43a464a76a0950ea1caec50ad27a0539e59b4d24009572d1db09cce7', 1)] \n",
      "\n"
     ]
    },
    {
     "data": {
      "text/plain": [
       "True"
      ]
     },
     "execution_count": 10,
     "metadata": {},
     "output_type": "execute_result"
    }
   ],
   "source": [
    "G = nx.Graph()\n",
    "G_edge_list = [(1, 2), (2, 3), (3, 1)]\n",
    "G.add_edges_from(G_edge_list)\n",
    "\n",
    "compare_graphs(G, G, k=2, verbose=True, method='kWL')"
   ]
  },
  {
   "cell_type": "markdown",
   "id": "6843d8d9-b622-481f-a11a-5c409ecb16ac",
   "metadata": {},
   "source": [
    "The above example is outputting True, it has passed the test for isomorphism."
   ]
  },
  {
   "cell_type": "markdown",
   "id": "68711109-a2d4-49e4-b9fa-660650c7d0a0",
   "metadata": {},
   "source": [
    "Below are two examples of graphs that will fail this test.\n",
    "\n",
    "![graphexample2](data:image/png;base64,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)\n"
   ]
  },
  {
   "cell_type": "markdown",
   "id": "00781645-6613-47c1-9db9-2127f88e2d80",
   "metadata": {},
   "source": [
    "We will now evaluate these graphs using the code below."
   ]
  },
  {
   "cell_type": "code",
   "execution_count": 11,
   "id": "9804165e-a7d8-4c06-af65-d2b39604beb7",
   "metadata": {},
   "outputs": [],
   "source": [
    "def evaluation(method, k):\n",
    "    print(f'Method: {method}')\n",
    "    \n",
    "    # Generates two non-isomorphic graphs\n",
    "    G = nx.Graph()\n",
    "    G_edge_list = [(1, 2), (2, 3), (1, 3), (4, 5), (5, 6), (4, 6)]\n",
    "    G.add_edges_from(G_edge_list)\n",
    "\n",
    "    H = nx.Graph()\n",
    "    H_edge_list = [(1, 2), (2, 3), (3, 4), (4, 5), (5, 6), (6, 1)]\n",
    "    H.add_edges_from(H_edge_list)\n",
    "    \n",
    "    G_ = nx.Graph()\n",
    "    G_edge_list = [(1, 2), (2, 3), (3, 4), (4, 5), (5, 6), (6, 1), (3, 7), (7, 8), (8, 9), (9, 10), (10, 4)]\n",
    "    G_.add_edges_from(G_edge_list)\n",
    "\n",
    "    H_ = nx.Graph()\n",
    "    H_edge_list = [(1, 2), (2, 3), (3, 4), (4, 5), (5, 1), (3, 6), (6, 7), (7, 8), (8, 9), (9, 10), (10, 6)]\n",
    "    H_.add_edges_from(H_edge_list)\n",
    "    \n",
    "    \n",
    "    G1 = nx.davis_southern_women_graph()\n",
    "    G2 = nx.karate_club_graph()\n",
    "    G3 = nx.les_miserables_graph()\n",
    "    G4 = nx.convert_node_labels_to_integers(G3)\n",
    "\n",
    "    G5 = nx.convert_node_labels_to_integers(G3)\n",
    "    G5.remove_edge(0, 1)\n",
    "\n",
    "    print(f'Expected: False, got: {compare_graphs(G, H, method, k)}')\n",
    "    print(f'Expected: False, got: {compare_graphs(G_, H_, method, k)}')\n",
    "    print(f'Expected: True, got: {compare_graphs(G1, G1, method, k)}')\n",
    "    print(f'Expected: True, got: {compare_graphs(G2, G2, method, k)}')\n",
    "    print(f'Expected: True, got: {compare_graphs(G3, G3, method, k)}')\n",
    "    print(f'Expected: True, got: {compare_graphs(G4, G4, method, k)}')\n",
    "    print(f'Expected: True, got: {compare_graphs(G5, G5, method, k)}')\n",
    "    \n",
    "    print(f'Expected: True, got: {compare_graphs(G3, G4, method, k)}')\n",
    "    print(f'Expected: False, got: {compare_graphs(G3, G5, method, k)}')\n",
    "    print(f'Expected: False, got: {compare_graphs(G4, G5, method, k)}')"
   ]
  },
  {
   "cell_type": "code",
   "execution_count": 12,
   "id": "6afb00bf-05a3-438f-8648-7ff725029c44",
   "metadata": {},
   "outputs": [
    {
     "ename": "SyntaxError",
     "evalue": "invalid syntax (1281118882.py, line 3)",
     "output_type": "error",
     "traceback": [
      "\u001b[1;36m  Cell \u001b[1;32mIn[12], line 3\u001b[1;36m\u001b[0m\n\u001b[1;33m    Expected: False, got: True\u001b[0m\n\u001b[1;37m                   ^\u001b[0m\n\u001b[1;31mSyntaxError\u001b[0m\u001b[1;31m:\u001b[0m invalid syntax\n"
     ]
    }
   ],
   "source": [
    "evaluation('WL', k=3)\n",
    "\n",
    "Expected: False, got: True\n",
    "Expected: True, got: True\n",
    "Expected: True, got: True\n",
    "Expected: True, got: True\n",
    "Expected: True, got: True\n",
    "Expected: True, got: True\n",
    "Expected: True, got: True\n",
    "Expected: False, got: False\n",
    "Expected: False, got: False\n",
    "\n"
   ]
  },
  {
   "cell_type": "code",
   "execution_count": 13,
   "id": "26aa2286-4edf-404b-a6a6-d61bc68ec382",
   "metadata": {},
   "outputs": [
    {
     "ename": "SyntaxError",
     "evalue": "invalid syntax (3991325422.py, line 3)",
     "output_type": "error",
     "traceback": [
      "\u001b[1;36m  Cell \u001b[1;32mIn[13], line 3\u001b[1;36m\u001b[0m\n\u001b[1;33m    Expected: False, got: True\u001b[0m\n\u001b[1;37m                   ^\u001b[0m\n\u001b[1;31mSyntaxError\u001b[0m\u001b[1;31m:\u001b[0m invalid syntax\n"
     ]
    }
   ],
   "source": [
    "evaluation('kWL', k=3)\n",
    "\n",
    "Expected: False, got: True\n",
    "Expected: True, got: True\n",
    "Expected: True, got: True\n",
    "Expected: True, got: True\n",
    "Expected: True, got: True\n",
    "Expected: True, got: True\n",
    "Expected: True, got: True\n",
    "Expected: False, got: False\n",
    "Expected: False, got: False\n",
    "\n"
   ]
  },
  {
   "cell_type": "code",
   "execution_count": null,
   "id": "7dccce33-41bc-4657-a380-a24cf1e88296",
   "metadata": {},
   "outputs": [
    {
     "name": "stdout",
     "output_type": "stream",
     "text": [
      "Method: fkWL\n"
     ]
    }
   ],
   "source": [
    "evaluation('fkWL', k=3)"
   ]
  },
  {
   "cell_type": "code",
   "execution_count": null,
   "id": "1f7ad59b-5973-4bf0-b475-59541b1d64a2",
   "metadata": {},
   "outputs": [],
   "source": []
  }
 ],
 "metadata": {
  "kernelspec": {
   "display_name": "Python 3 (ipykernel)",
   "language": "python",
   "name": "python3"
  },
  "language_info": {
   "codemirror_mode": {
    "name": "ipython",
    "version": 3
   },
   "file_extension": ".py",
   "mimetype": "text/x-python",
   "name": "python",
   "nbconvert_exporter": "python",
   "pygments_lexer": "ipython3",
   "version": "3.10.9"
  }
 },
 "nbformat": 4,
 "nbformat_minor": 5
}
